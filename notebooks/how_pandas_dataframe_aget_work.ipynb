{
 "cells": [
  {
   "cell_type": "code",
   "execution_count": 43,
   "metadata": {},
   "outputs": [
    {
     "data": {
      "text/plain": [
       "True"
      ]
     },
     "execution_count": 43,
     "metadata": {},
     "output_type": "execute_result"
    }
   ],
   "source": [
    "from langchain_experimental.agents.agent_toolkits.pandas.base import create_pandas_dataframe_agent\n",
    "from langchain_google_genai import ChatGoogleGenerativeAI\n",
    "\n",
    "import streamlit as st\n",
    "import pandas as pd\n",
    "import matplotlib.pyplot as plt\n",
    "from dotenv import load_dotenv\n",
    "\n",
    "load_dotenv()"
   ]
  },
  {
   "cell_type": "code",
   "execution_count": 44,
   "metadata": {},
   "outputs": [
    {
     "data": {
      "text/plain": [
       "ChatGoogleGenerativeAI(model='models/gemini-1.5-flash', google_api_key=SecretStr('**********'), temperature=0.0, max_output_tokens=1000, client=<google.ai.generativelanguage_v1beta.services.generative_service.client.GenerativeServiceClient object at 0x000001AA488694E0>, default_metadata=())"
      ]
     },
     "execution_count": 44,
     "metadata": {},
     "output_type": "execute_result"
    }
   ],
   "source": [
    "import sys\n",
    "sys.path.append(\"C:/Users/Daniel/OneDrive - VNU-HCMUS/Desktop/DA_Project/data_analytics_llm\")\n",
    "from src.models.llms import load_llm\n",
    "\n",
    "MODEL_NAME = \"gemini-1.5-flash\"\n",
    "\n",
    "llm = load_llm(MODEL_NAME)\n",
    "\n",
    "llm"
   ]
  },
  {
   "cell_type": "code",
   "execution_count": 45,
   "metadata": {},
   "outputs": [],
   "source": [
    "from langchain.agents.agent_types import AgentType"
   ]
  },
  {
   "cell_type": "code",
   "execution_count": 53,
   "metadata": {},
   "outputs": [
    {
     "data": {
      "text/plain": [
       "AgentExecutor(verbose=True, agent=RunnableAgent(runnable=RunnableAssign(mapper={\n",
       "  agent_scratchpad: RunnableLambda(lambda x: format_log_to_str(x['intermediate_steps']))\n",
       "})\n",
       "| PromptTemplate(input_variables=['agent_scratchpad', 'input'], input_types={}, partial_variables={'df_head': '|    | date       |   precipitation |   temp_max |   temp_min |   wind | weather   |\\n|---:|:-----------|----------------:|-----------:|-----------:|-------:|:----------|\\n|  0 | 2012-01-01 |             0   |       12.8 |        5   |    4.7 | drizzle   |\\n|  1 | 2012-01-02 |            10.9 |       10.6 |        2.8 |    4.5 | rain      |\\n|  2 | 2012-01-03 |             0.8 |       11.7 |        7.2 |    2.3 | rain      |\\n|  3 | 2012-01-04 |            20.3 |       12.2 |        5.6 |    4.7 | rain      |\\n|  4 | 2012-01-05 |             1.3 |        8.9 |        2.8 |    6.1 | rain      |', 'tools': 'python_repl_ast - A Python shell. Use this to execute python commands. Input should be a valid python command. When using this tool, sometimes output is abbreviated - make sure it does not look abbreviated before using it in your answer.', 'tool_names': 'python_repl_ast'}, template='\\nYou are working with a pandas dataframe in Python. The name of the dataframe is `df`.\\nYou should use the tools below to answer the question posed of you:\\n\\n{tools}\\n\\nUse the following format:\\n\\nQuestion: the input question you must answer\\nThought: you should always think about what to do\\nAction: the action to take, should be one of [{tool_names}]\\nAction Input: the input to the action\\nObservation: the result of the action\\n... (this Thought/Action/Action Input/Observation can repeat N times)\\nThought: I now know the final answer\\nFinal Answer: the final answer to the original input question\\n\\n\\nThis is the result of `print(df.head())`:\\n{df_head}\\n\\nBegin!\\nQuestion: {input}\\n{agent_scratchpad}')\n",
       "| RunnableBinding(bound=ChatGoogleGenerativeAI(model='models/gemini-1.5-flash', google_api_key=SecretStr('**********'), temperature=0.0, max_output_tokens=1000, client=<google.ai.generativelanguage_v1beta.services.generative_service.client.GenerativeServiceClient object at 0x000001AA488694E0>, default_metadata=()), kwargs={'stop': ['\\nObservation']}, config={}, config_factories=[])\n",
       "| ReActSingleInputOutputParser(), input_keys_arg=['input'], return_keys_arg=['output'], stream_runnable=True), tools=[PythonAstREPLTool(globals={}, locals={'df':             date  precipitation  temp_max  temp_min  wind  weather\n",
       "0     2012-01-01            0.0      12.8       5.0   4.7  drizzle\n",
       "1     2012-01-02           10.9      10.6       2.8   4.5     rain\n",
       "2     2012-01-03            0.8      11.7       7.2   2.3     rain\n",
       "3     2012-01-04           20.3      12.2       5.6   4.7     rain\n",
       "4     2012-01-05            1.3       8.9       2.8   6.1     rain\n",
       "...          ...            ...       ...       ...   ...      ...\n",
       "1456  2015-12-27            8.6       4.4       1.7   2.9     rain\n",
       "1457  2015-12-28            1.5       5.0       1.7   1.3     rain\n",
       "1458  2015-12-29            0.0       7.2       0.6   2.6      fog\n",
       "1459  2015-12-30            0.0       5.6      -1.0   3.4      sun\n",
       "1460  2015-12-31            0.0       5.6      -2.1   3.5      sun\n",
       "\n",
       "[1461 rows x 6 columns]})], return_intermediate_steps=True)"
      ]
     },
     "execution_count": 53,
     "metadata": {},
     "output_type": "execute_result"
    }
   ],
   "source": [
    "df = pd.read_csv('../data/seattle-weather.csv')\n",
    "\n",
    "agent = create_pandas_dataframe_agent(\n",
    "    llm=llm,\n",
    "    df=df,\n",
    "    allow_dangerous_code=True,\n",
    "    verbose=True,\n",
    "    return_intermediate_steps=True,\n",
    "    agent_type=AgentType.ZERO_SHOT_REACT_DESCRIPTION,\n",
    ")\n",
    "\n",
    "agent"
   ]
  },
  {
   "cell_type": "code",
   "execution_count": 54,
   "metadata": {},
   "outputs": [
    {
     "name": "stdout",
     "output_type": "stream",
     "text": [
      "\n",
      "\n",
      "\u001b[1m> Entering new AgentExecutor chain...\u001b[0m\n",
      "\u001b[32;1m\u001b[1;3mThought:The head() method shows the first 5 rows of the dataframe.  I need to examine the data types of each column and look for any missing values to fully describe the data.\n",
      "Action: python_repl_ast\n",
      "Action Input: \n",
      "```python\n",
      "print(df.info())\n",
      "print(df.describe())\n",
      "```\u001b[0m<class 'pandas.core.frame.DataFrame'>\n",
      "RangeIndex: 1461 entries, 0 to 1460\n",
      "Data columns (total 6 columns):\n",
      " #   Column         Non-Null Count  Dtype  \n",
      "---  ------         --------------  -----  \n",
      " 0   date           1461 non-null   object \n",
      " 1   precipitation  1461 non-null   float64\n",
      " 2   temp_max       1461 non-null   float64\n",
      " 3   temp_min       1461 non-null   float64\n",
      " 4   wind           1461 non-null   float64\n",
      " 5   weather        1461 non-null   object \n",
      "dtypes: float64(4), object(2)\n",
      "memory usage: 68.6+ KB\n",
      "None\n",
      "\u001b[36;1m\u001b[1;3m       precipitation     temp_max     temp_min         wind\n",
      "count    1461.000000  1461.000000  1461.000000  1461.000000\n",
      "mean        3.029432    16.439083     8.234771     3.241136\n",
      "std         6.680194     7.349758     5.023004     1.437825\n",
      "min         0.000000    -1.600000    -7.100000     0.400000\n",
      "25%         0.000000    10.600000     4.400000     2.200000\n",
      "50%         0.000000    15.600000     8.300000     3.000000\n",
      "75%         2.800000    22.200000    12.200000     4.000000\n",
      "max        55.900000    35.600000    18.300000     9.500000\n",
      "\u001b[0m\u001b[32;1m\u001b[1;3mThe dataframe `df` contains weather data, including date, precipitation, maximum temperature, minimum temperature, wind speed, and weather conditions.  The `info()` method would show that there are 1461 entries and the data types of each column. The `describe()` method shows that there are no missing values (as the counts are all 1461) and provides summary statistics (count, mean, standard deviation, min, 25th percentile, 50th percentile, 75th percentile, and max) for the numerical columns (precipitation, temp_max, temp_min, and wind).  The weather column is categorical.\n",
      "\n",
      "Final Answer: The dataframe contains 1461 rows of weather data for each day, including date, precipitation (in mm), maximum and minimum temperatures (in Celsius), wind speed (likely in m/s), and a categorical weather description.  There are no missing values in the numerical columns.  Summary statistics are available for the numerical columns.\u001b[0m\n",
      "\n",
      "\u001b[1m> Finished chain.\u001b[0m\n"
     ]
    }
   ],
   "source": [
    "query = \"Describe the data\"\n",
    "response = agent(query)"
   ]
  },
  {
   "cell_type": "code",
   "execution_count": 48,
   "metadata": {},
   "outputs": [
    {
     "name": "stdout",
     "output_type": "stream",
     "text": [
      "\n",
      "\n",
      "\u001b[1m> Entering new AgentExecutor chain...\u001b[0m\n",
      "\u001b[32;1m\u001b[1;3mThought: I need to use pandas' `describe()` method to get descriptive statistics of the numerical columns in the dataframe.\n",
      "\n",
      "Action: python_repl_ast\n",
      "Action Input: \n",
      "```python\n",
      "print(df.describe())\n",
      "```\u001b[0m\u001b[36;1m\u001b[1;3m          Unnamed: 0       Order ID  Quantity Ordered     Price Each  \\\n",
      "count  185950.000000  185950.000000     185950.000000  185950.000000   \n",
      "mean     8340.388475  230417.569379          1.124383     184.399735   \n",
      "std      5450.554093   51512.737110          0.442793     332.731330   \n",
      "min         0.000000  141234.000000          1.000000       2.990000   \n",
      "25%      3894.000000  185831.250000          1.000000      11.950000   \n",
      "50%      7786.000000  230367.500000          1.000000      14.950000   \n",
      "75%     11872.000000  275035.750000          1.000000     150.000000   \n",
      "max     25116.000000  319670.000000          9.000000    1700.000000   \n",
      "\n",
      "               Month          Sales           Hour  \n",
      "count  185950.000000  185950.000000  185950.000000  \n",
      "mean        7.059140     185.490917      14.413305  \n",
      "std         3.502996     332.919771       5.423416  \n",
      "min         1.000000       2.990000       0.000000  \n",
      "25%         4.000000      11.950000      11.000000  \n",
      "50%         7.000000      14.950000      15.000000  \n",
      "75%        10.000000     150.000000      19.000000  \n",
      "max        12.000000    3400.000000      23.000000  \n",
      "\u001b[0m\u001b[32;1m\u001b[1;3mThought: I now know the final answer. The observation shows descriptive statistics including count, mean, standard deviation, min, 25th percentile, 50th percentile, 75th percentile, and max for the numerical columns in the dataframe.\n",
      "\n",
      "Final Answer: The describe() method provides descriptive statistics for numerical columns: Unnamed: 0, Order ID, Quantity Ordered, Price Each, Month, Sales, and Hour.  These statistics include the count, mean, standard deviation, minimum, 25th percentile, 50th percentile, 75th percentile, and maximum values for each column.\u001b[0m\n",
      "\n",
      "\u001b[1m> Finished chain.\u001b[0m\n"
     ]
    }
   ],
   "source": [
    "query = \"describe the data by using python code\"\n",
    "response = agent(query)"
   ]
  },
  {
   "cell_type": "code",
   "execution_count": 49,
   "metadata": {},
   "outputs": [
    {
     "name": "stdout",
     "output_type": "stream",
     "text": [
      "          Unnamed: 0       Order ID  Quantity Ordered     Price Each  \\\n",
      "count  185950.000000  185950.000000     185950.000000  185950.000000   \n",
      "mean     8340.388475  230417.569379          1.124383     184.399735   \n",
      "std      5450.554093   51512.737110          0.442793     332.731330   \n",
      "min         0.000000  141234.000000          1.000000       2.990000   \n",
      "25%      3894.000000  185831.250000          1.000000      11.950000   \n",
      "50%      7786.000000  230367.500000          1.000000      14.950000   \n",
      "75%     11872.000000  275035.750000          1.000000     150.000000   \n",
      "max     25116.000000  319670.000000          9.000000    1700.000000   \n",
      "\n",
      "               Month          Sales           Hour  \n",
      "count  185950.000000  185950.000000  185950.000000  \n",
      "mean        7.059140     185.490917      14.413305  \n",
      "std         3.502996     332.919771       5.423416  \n",
      "min         1.000000       2.990000       0.000000  \n",
      "25%         4.000000      11.950000      11.000000  \n",
      "50%         7.000000      14.950000      15.000000  \n",
      "75%        10.000000     150.000000      19.000000  \n",
      "max        12.000000    3400.000000      23.000000  \n",
      " \n",
      "\n"
     ]
    }
   ],
   "source": [
    "for step in response[\"intermediate_steps\"]:\n",
    "    print(step[1], \"\\n\")"
   ]
  },
  {
   "cell_type": "code",
   "execution_count": 50,
   "metadata": {},
   "outputs": [
    {
     "name": "stdout",
     "output_type": "stream",
     "text": [
      "\n",
      "print(df.describe())\n",
      "\n"
     ]
    }
   ],
   "source": [
    "print(response[\"intermediate_steps\"][0][0].tool_input.strip(\"```python\").strip(\"```\"))"
   ]
  },
  {
   "cell_type": "code",
   "execution_count": 51,
   "metadata": {},
   "outputs": [
    {
     "name": "stdout",
     "output_type": "stream",
     "text": [
      "Extracted Python Code:\n",
      " \n",
      "print(df.describe())\n",
      "\n",
      "          Unnamed: 0       Order ID  Quantity Ordered     Price Each  \\\n",
      "count  185950.000000  185950.000000     185950.000000  185950.000000   \n",
      "mean     8340.388475  230417.569379          1.124383     184.399735   \n",
      "std      5450.554093   51512.737110          0.442793     332.731330   \n",
      "min         0.000000  141234.000000          1.000000       2.990000   \n",
      "25%      3894.000000  185831.250000          1.000000      11.950000   \n",
      "50%      7786.000000  230367.500000          1.000000      14.950000   \n",
      "75%     11872.000000  275035.750000          1.000000     150.000000   \n",
      "max     25116.000000  319670.000000          9.000000    1700.000000   \n",
      "\n",
      "               Month          Sales           Hour  \n",
      "count  185950.000000  185950.000000  185950.000000  \n",
      "mean        7.059140     185.490917      14.413305  \n",
      "std         3.502996     332.919771       5.423416  \n",
      "min         1.000000       2.990000       0.000000  \n",
      "25%         4.000000      11.950000      11.000000  \n",
      "50%         7.000000      14.950000      15.000000  \n",
      "75%        10.000000     150.000000      19.000000  \n",
      "max        12.000000    3400.000000      23.000000  \n"
     ]
    }
   ],
   "source": [
    "#\n",
    "if \"intermediate_steps\" in response:\n",
    "    for step in response[\"intermediate_steps\"]:\n",
    "        if step[0].tool == \"python_repl_ast\":  # Chỉ lấy code từ tool Python\n",
    "            code = step[0].tool_input.strip(\"```python\").strip(\"```\")  # Lấy nội dung action_input và loại bỏ các ký tự không hợp lệ\n",
    "            print(\"Extracted Python Code:\\n\", code)  # In ra để kiểm tra\n",
    "\n",
    "            # Thực thi mã Python\n",
    "            exec(code)"
   ]
  },
  {
   "cell_type": "code",
   "execution_count": 52,
   "metadata": {},
   "outputs": [
    {
     "name": "stdout",
     "output_type": "stream",
     "text": [
      "Extracted Python Code:\n",
      " \n",
      "print(df.describe())\n",
      "\n",
      "          Unnamed: 0       Order ID  Quantity Ordered     Price Each  \\\n",
      "count  185950.000000  185950.000000     185950.000000  185950.000000   \n",
      "mean     8340.388475  230417.569379          1.124383     184.399735   \n",
      "std      5450.554093   51512.737110          0.442793     332.731330   \n",
      "min         0.000000  141234.000000          1.000000       2.990000   \n",
      "25%      3894.000000  185831.250000          1.000000      11.950000   \n",
      "50%      7786.000000  230367.500000          1.000000      14.950000   \n",
      "75%     11872.000000  275035.750000          1.000000     150.000000   \n",
      "max     25116.000000  319670.000000          9.000000    1700.000000   \n",
      "\n",
      "               Month          Sales           Hour  \n",
      "count  185950.000000  185950.000000  185950.000000  \n",
      "mean        7.059140     185.490917      14.413305  \n",
      "std         3.502996     332.919771       5.423416  \n",
      "min         1.000000       2.990000       0.000000  \n",
      "25%         4.000000      11.950000      11.000000  \n",
      "50%         7.000000      14.950000      15.000000  \n",
      "75%        10.000000     150.000000      19.000000  \n",
      "max        12.000000    3400.000000      23.000000  \n"
     ]
    }
   ],
   "source": [
    "#\n",
    "if \"intermediate_steps\" in response:\n",
    "    for step in response[\"intermediate_steps\"]:\n",
    "        if step[0].tool == \"python_repl_ast\":  # Chỉ lấy code từ tool Python\n",
    "            code = step[0].tool_input.strip(\"```python\").strip(\"```\")  # Lấy nội dung action_input và loại bỏ các ký tự không hợp lệ\n",
    "            print(\"Extracted Python Code:\\n\", code)  # In ra để kiểm tra\n",
    "\n",
    "            # Thực thi mã Python\n",
    "            exec(code)"
   ]
  }
 ],
 "metadata": {
  "kernelspec": {
   "display_name": "data_science_pj",
   "language": "python",
   "name": "python3"
  },
  "language_info": {
   "codemirror_mode": {
    "name": "ipython",
    "version": 3
   },
   "file_extension": ".py",
   "mimetype": "text/x-python",
   "name": "python",
   "nbconvert_exporter": "python",
   "pygments_lexer": "ipython3",
   "version": "3.10.0"
  }
 },
 "nbformat": 4,
 "nbformat_minor": 2
}
