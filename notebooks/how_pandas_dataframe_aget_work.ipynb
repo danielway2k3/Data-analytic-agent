{
 "cells": [
  {
   "cell_type": "code",
   "execution_count": 1,
   "metadata": {},
   "outputs": [
    {
     "data": {
      "text/plain": [
       "True"
      ]
     },
     "execution_count": 1,
     "metadata": {},
     "output_type": "execute_result"
    }
   ],
   "source": [
    "from langchain_experimental.agents.agent_toolkits.pandas.base import create_pandas_dataframe_agent\n",
    "from langchain_google_genai import ChatGoogleGenerativeAI\n",
    "\n",
    "import streamlit as st\n",
    "import pandas as pd\n",
    "import matplotlib.pyplot as plt\n",
    "from dotenv import load_dotenv\n",
    "\n",
    "load_dotenv()"
   ]
  },
  {
   "cell_type": "code",
   "execution_count": 2,
   "metadata": {},
   "outputs": [
    {
     "data": {
      "text/plain": [
       "ChatGoogleGenerativeAI(model='models/gemini-1.5-flash', google_api_key=SecretStr('**********'), temperature=0.0, max_output_tokens=1000, client=<google.ai.generativelanguage_v1beta.services.generative_service.client.GenerativeServiceClient object at 0x000001AA457FAEC0>, default_metadata=())"
      ]
     },
     "execution_count": 2,
     "metadata": {},
     "output_type": "execute_result"
    }
   ],
   "source": [
    "import sys\n",
    "sys.path.append(\"C:/Users/Daniel/OneDrive - VNU-HCMUS/Desktop/DA_Project/data_analytics_llm\")\n",
    "from src.models.llms import load_llm\n",
    "\n",
    "MODEL_NAME = \"gemini-1.5-flash\"\n",
    "\n",
    "llm = load_llm(MODEL_NAME)\n",
    "\n",
    "llm"
   ]
  },
  {
   "cell_type": "code",
   "execution_count": 3,
   "metadata": {},
   "outputs": [],
   "source": [
    "from langchain.agents.agent_types import AgentType"
   ]
  },
  {
   "cell_type": "code",
   "execution_count": 4,
   "metadata": {},
   "outputs": [
    {
     "data": {
      "text/plain": [
       "AgentExecutor(verbose=True, agent=RunnableAgent(runnable=RunnableAssign(mapper={\n",
       "  agent_scratchpad: RunnableLambda(lambda x: format_log_to_str(x['intermediate_steps']))\n",
       "})\n",
       "| PromptTemplate(input_variables=['agent_scratchpad', 'input'], input_types={}, partial_variables={'df_head': '|    |   Unnamed: 0 |   Order ID | Product              |   Quantity Ordered |   Price Each | Order Date          | Purchase Address                       |   Month |   Sales | City          |   Hour |\\n|---:|-------------:|-----------:|:---------------------|-------------------:|-------------:|:--------------------|:---------------------------------------|--------:|--------:|:--------------|-------:|\\n|  0 |            0 |     295665 | Macbook Pro Laptop   |                  1 |      1700    | 2019-12-30 00:01:00 | 136 Church St, New York City, NY 10001 |      12 | 1700    | New York City |      0 |\\n|  1 |            1 |     295666 | LG Washing Machine   |                  1 |       600    | 2019-12-29 07:03:00 | 562 2nd St, New York City, NY 10001    |      12 |  600    | New York City |      7 |\\n|  2 |            2 |     295667 | USB-C Charging Cable |                  1 |        11.95 | 2019-12-12 18:21:00 | 277 Main St, New York City, NY 10001   |      12 |   11.95 | New York City |     18 |\\n|  3 |            3 |     295668 | 27in FHD Monitor     |                  1 |       149.99 | 2019-12-22 15:13:00 | 410 6th St, San Francisco, CA 94016    |      12 |  149.99 | San Francisco |     15 |\\n|  4 |            4 |     295669 | USB-C Charging Cable |                  1 |        11.95 | 2019-12-18 12:38:00 | 43 Hill St, Atlanta, GA 30301          |      12 |   11.95 | Atlanta       |     12 |', 'tools': 'python_repl_ast - A Python shell. Use this to execute python commands. Input should be a valid python command. When using this tool, sometimes output is abbreviated - make sure it does not look abbreviated before using it in your answer.', 'tool_names': 'python_repl_ast'}, template='\\nYou are working with a pandas dataframe in Python. The name of the dataframe is `df`.\\nYou should use the tools below to answer the question posed of you:\\n\\n{tools}\\n\\nUse the following format:\\n\\nQuestion: the input question you must answer\\nThought: you should always think about what to do\\nAction: the action to take, should be one of [{tool_names}]\\nAction Input: the input to the action\\nObservation: the result of the action\\n... (this Thought/Action/Action Input/Observation can repeat N times)\\nThought: I now know the final answer\\nFinal Answer: the final answer to the original input question\\n\\n\\nThis is the result of `print(df.head())`:\\n{df_head}\\n\\nBegin!\\nQuestion: {input}\\n{agent_scratchpad}')\n",
       "| RunnableBinding(bound=ChatGoogleGenerativeAI(model='models/gemini-1.5-flash', google_api_key=SecretStr('**********'), temperature=0.0, max_output_tokens=1000, client=<google.ai.generativelanguage_v1beta.services.generative_service.client.GenerativeServiceClient object at 0x000001AA457FAEC0>, default_metadata=()), kwargs={'stop': ['\\nObservation']}, config={}, config_factories=[])\n",
       "| ReActSingleInputOutputParser(), input_keys_arg=['input'], return_keys_arg=['output'], stream_runnable=True), tools=[PythonAstREPLTool(globals={}, locals={'df':         Unnamed: 0  Order ID                 Product  Quantity Ordered  \\\n",
       "0                0    295665      Macbook Pro Laptop                 1   \n",
       "1                1    295666      LG Washing Machine                 1   \n",
       "2                2    295667    USB-C Charging Cable                 1   \n",
       "3                3    295668        27in FHD Monitor                 1   \n",
       "4                4    295669    USB-C Charging Cable                 1   \n",
       "...            ...       ...                     ...               ...   \n",
       "185945       13617    222905  AAA Batteries (4-pack)                 1   \n",
       "185946       13618    222906        27in FHD Monitor                 1   \n",
       "185947       13619    222907    USB-C Charging Cable                 1   \n",
       "185948       13620    222908    USB-C Charging Cable                 1   \n",
       "185949       13621    222909  AAA Batteries (4-pack)                 1   \n",
       "\n",
       "        Price Each           Order Date  \\\n",
       "0          1700.00  2019-12-30 00:01:00   \n",
       "1           600.00  2019-12-29 07:03:00   \n",
       "2            11.95  2019-12-12 18:21:00   \n",
       "3           149.99  2019-12-22 15:13:00   \n",
       "4            11.95  2019-12-18 12:38:00   \n",
       "...            ...                  ...   \n",
       "185945        2.99  2019-06-07 19:02:00   \n",
       "185946      149.99  2019-06-01 19:29:00   \n",
       "185947       11.95  2019-06-22 18:57:00   \n",
       "185948       11.95  2019-06-26 18:35:00   \n",
       "185949        2.99  2019-06-25 14:33:00   \n",
       "\n",
       "                              Purchase Address  Month    Sales  \\\n",
       "0       136 Church St, New York City, NY 10001     12  1700.00   \n",
       "1          562 2nd St, New York City, NY 10001     12   600.00   \n",
       "2         277 Main St, New York City, NY 10001     12    11.95   \n",
       "3          410 6th St, San Francisco, CA 94016     12   149.99   \n",
       "4                43 Hill St, Atlanta, GA 30301     12    11.95   \n",
       "...                                        ...    ...      ...   \n",
       "185945           795 Pine St, Boston, MA 02215      6     2.99   \n",
       "185946   495 North St, New York City, NY 10001      6   149.99   \n",
       "185947   319 Ridge St, San Francisco, CA 94016      6    11.95   \n",
       "185948    916 Main St, San Francisco, CA 94016      6    11.95   \n",
       "185949          209 11th St, Atlanta, GA 30301      6     2.99   \n",
       "\n",
       "                  City  Hour  \n",
       "0        New York City     0  \n",
       "1        New York City     7  \n",
       "2        New York City    18  \n",
       "3        San Francisco    15  \n",
       "4              Atlanta    12  \n",
       "...                ...   ...  \n",
       "185945          Boston    19  \n",
       "185946   New York City    19  \n",
       "185947   San Francisco    18  \n",
       "185948   San Francisco    18  \n",
       "185949         Atlanta    14  \n",
       "\n",
       "[185950 rows x 11 columns]})], return_intermediate_steps=True)"
      ]
     },
     "execution_count": 4,
     "metadata": {},
     "output_type": "execute_result"
    }
   ],
   "source": [
    "df = pd.read_csv('../data/Sales Data.csv')\n",
    "\n",
    "agent = create_pandas_dataframe_agent(\n",
    "    llm=llm,\n",
    "    df=df,\n",
    "    allow_dangerous_code=True,\n",
    "    verbose=True,\n",
    "    return_intermediate_steps=True,\n",
    "    agent_type=AgentType.ZERO_SHOT_REACT_DESCRIPTION,\n",
    ")\n",
    "\n",
    "agent"
   ]
  },
  {
   "cell_type": "code",
   "execution_count": 5,
   "metadata": {},
   "outputs": [
    {
     "name": "stderr",
     "output_type": "stream",
     "text": [
      "C:\\Users\\Daniel\\AppData\\Local\\Temp\\ipykernel_11452\\246414373.py:2: LangChainDeprecationWarning: The method `Chain.__call__` was deprecated in langchain 0.1.0 and will be removed in 1.0. Use :meth:`~invoke` instead.\n",
      "  response = agent(query)\n"
     ]
    },
    {
     "name": "stdout",
     "output_type": "stream",
     "text": [
      "\n",
      "\n",
      "\u001b[1m> Entering new AgentExecutor chain...\u001b[0m\n",
      "\u001b[32;1m\u001b[1;3mThought: I need to examine the dataframe to understand its structure and content.  The head() output shows the first five rows.  I should look at the data types of each column and the number of rows and columns.\n",
      "\n",
      "Action: python_repl_ast\n",
      "Action Input: \n",
      "```python\n",
      "print(df.info())\n",
      "print(df.describe())\n",
      "```\u001b[0m<class 'pandas.core.frame.DataFrame'>\n",
      "RangeIndex: 185950 entries, 0 to 185949\n",
      "Data columns (total 11 columns):\n",
      " #   Column            Non-Null Count   Dtype  \n",
      "---  ------            --------------   -----  \n",
      " 0   Unnamed: 0        185950 non-null  int64  \n",
      " 1   Order ID          185950 non-null  int64  \n",
      " 2   Product           185950 non-null  object \n",
      " 3   Quantity Ordered  185950 non-null  int64  \n",
      " 4   Price Each        185950 non-null  float64\n",
      " 5   Order Date        185950 non-null  object \n",
      " 6   Purchase Address  185950 non-null  object \n",
      " 7   Month             185950 non-null  int64  \n",
      " 8   Sales             185950 non-null  float64\n",
      " 9   City              185950 non-null  object \n",
      " 10  Hour              185950 non-null  int64  \n",
      "dtypes: float64(2), int64(5), object(4)\n",
      "memory usage: 15.6+ MB\n",
      "None\n",
      "\u001b[36;1m\u001b[1;3m          Unnamed: 0       Order ID  Quantity Ordered     Price Each  \\\n",
      "count  185950.000000  185950.000000     185950.000000  185950.000000   \n",
      "mean     8340.388475  230417.569379          1.124383     184.399735   \n",
      "std      5450.554093   51512.737110          0.442793     332.731330   \n",
      "min         0.000000  141234.000000          1.000000       2.990000   \n",
      "25%      3894.000000  185831.250000          1.000000      11.950000   \n",
      "50%      7786.000000  230367.500000          1.000000      14.950000   \n",
      "75%     11872.000000  275035.750000          1.000000     150.000000   \n",
      "max     25116.000000  319670.000000          9.000000    1700.000000   \n",
      "\n",
      "               Month          Sales           Hour  \n",
      "count  185950.000000  185950.000000  185950.000000  \n",
      "mean        7.059140     185.490917      14.413305  \n",
      "std         3.502996     332.919771       5.423416  \n",
      "min         1.000000       2.990000       0.000000  \n",
      "25%         4.000000      11.950000      11.000000  \n",
      "50%         7.000000      14.950000      15.000000  \n",
      "75%        10.000000     150.000000      19.000000  \n",
      "max        12.000000    3400.000000      23.000000  \n",
      "\u001b[0m\u001b[32;1m\u001b[1;3mThought:The dataframe `df` contains information about orders.  `info()` shows data types and non-null counts. `describe()` gives summary statistics for numerical columns.  I need to combine this information for a complete description.\n",
      "\n",
      "Final Answer: The dataframe contains 185950 rows and 12 columns.  The columns represent order information including a unique order ID, product name, quantity ordered, price, order date, purchase address, month of purchase, total sales for the order, city, and hour of purchase.  The 'Order Date' column is of datetime type.  Numerical columns like 'Quantity Ordered', 'Price Each', 'Month', 'Sales', and 'Hour' have summary statistics provided by `.describe()`, showing things like mean, standard deviation, min, max, and quartiles.  The other columns are likely categorical or textual data.\u001b[0m\n",
      "\n",
      "\u001b[1m> Finished chain.\u001b[0m\n"
     ]
    }
   ],
   "source": [
    "query = \"Describe the data\"\n",
    "response = agent(query)"
   ]
  },
  {
   "cell_type": "code",
   "execution_count": 34,
   "metadata": {},
   "outputs": [
    {
     "name": "stdout",
     "output_type": "stream",
     "text": [
      "\n",
      "\n",
      "\u001b[1m> Entering new AgentExecutor chain...\u001b[0m\n",
      "\u001b[32;1m\u001b[1;3mThought: I need to use pandas' `describe()` method to get descriptive statistics of the numerical columns in the dataframe.\n",
      "\n",
      "Action: python_repl_ast\n",
      "Action Input: \n",
      "```python\n",
      "print(df.describe())\n",
      "```\u001b[0m\u001b[36;1m\u001b[1;3m          Unnamed: 0       Order ID  Quantity Ordered     Price Each  \\\n",
      "count  185950.000000  185950.000000     185950.000000  185950.000000   \n",
      "mean     8340.388475  230417.569379          1.124383     184.399735   \n",
      "std      5450.554093   51512.737110          0.442793     332.731330   \n",
      "min         0.000000  141234.000000          1.000000       2.990000   \n",
      "25%      3894.000000  185831.250000          1.000000      11.950000   \n",
      "50%      7786.000000  230367.500000          1.000000      14.950000   \n",
      "75%     11872.000000  275035.750000          1.000000     150.000000   \n",
      "max     25116.000000  319670.000000          9.000000    1700.000000   \n",
      "\n",
      "               Month          Sales           Hour  \n",
      "count  185950.000000  185950.000000  185950.000000  \n",
      "mean        7.059140     185.490917      14.413305  \n",
      "std         3.502996     332.919771       5.423416  \n",
      "min         1.000000       2.990000       0.000000  \n",
      "25%         4.000000      11.950000      11.000000  \n",
      "50%         7.000000      14.950000      15.000000  \n",
      "75%        10.000000     150.000000      19.000000  \n",
      "max        12.000000    3400.000000      23.000000  \n",
      "\u001b[0m\u001b[32;1m\u001b[1;3mThought: I now know the final answer. The observation shows descriptive statistics including count, mean, standard deviation, min, 25th percentile, 50th percentile, 75th percentile, and max for the numerical columns in the dataframe.\n",
      "\n",
      "Final Answer: The describe() method provides descriptive statistics for numerical columns: Unnamed: 0, Order ID, Quantity Ordered, Price Each, Month, Sales, and Hour.  These statistics include the count, mean, standard deviation, minimum, 25th percentile, 50th percentile, 75th percentile, and maximum values for each column.\u001b[0m\n",
      "\n",
      "\u001b[1m> Finished chain.\u001b[0m\n"
     ]
    }
   ],
   "source": [
    "query = \"describe the data by using python code\"\n",
    "response = agent(query)"
   ]
  },
  {
   "cell_type": "code",
   "execution_count": 37,
   "metadata": {},
   "outputs": [
    {
     "name": "stdout",
     "output_type": "stream",
     "text": [
      "          Unnamed: 0       Order ID  Quantity Ordered     Price Each  \\\n",
      "count  185950.000000  185950.000000     185950.000000  185950.000000   \n",
      "mean     8340.388475  230417.569379          1.124383     184.399735   \n",
      "std      5450.554093   51512.737110          0.442793     332.731330   \n",
      "min         0.000000  141234.000000          1.000000       2.990000   \n",
      "25%      3894.000000  185831.250000          1.000000      11.950000   \n",
      "50%      7786.000000  230367.500000          1.000000      14.950000   \n",
      "75%     11872.000000  275035.750000          1.000000     150.000000   \n",
      "max     25116.000000  319670.000000          9.000000    1700.000000   \n",
      "\n",
      "               Month          Sales           Hour  \n",
      "count  185950.000000  185950.000000  185950.000000  \n",
      "mean        7.059140     185.490917      14.413305  \n",
      "std         3.502996     332.919771       5.423416  \n",
      "min         1.000000       2.990000       0.000000  \n",
      "25%         4.000000      11.950000      11.000000  \n",
      "50%         7.000000      14.950000      15.000000  \n",
      "75%        10.000000     150.000000      19.000000  \n",
      "max        12.000000    3400.000000      23.000000  \n",
      " \n",
      "\n"
     ]
    }
   ],
   "source": [
    "for step in response[\"intermediate_steps\"]:\n",
    "    print(step[1], \"\\n\")"
   ]
  },
  {
   "cell_type": "code",
   "execution_count": 10,
   "metadata": {},
   "outputs": [
    {
     "name": "stdout",
     "output_type": "stream",
     "text": [
      "\n",
      "print(df.describe())\n",
      "\n"
     ]
    }
   ],
   "source": [
    "print(response[\"intermediate_steps\"][0][0].tool_input.strip(\"```python\").strip(\"```\"))"
   ]
  },
  {
   "cell_type": "code",
   "execution_count": 39,
   "metadata": {},
   "outputs": [
    {
     "name": "stdout",
     "output_type": "stream",
     "text": [
      "Extracted Python Code:\n",
      " \n",
      "print(df.describe())\n",
      "\n",
      "          Unnamed: 0       Order ID  Quantity Ordered     Price Each  \\\n",
      "count  185950.000000  185950.000000     185950.000000  185950.000000   \n",
      "mean     8340.388475  230417.569379          1.124383     184.399735   \n",
      "std      5450.554093   51512.737110          0.442793     332.731330   \n",
      "min         0.000000  141234.000000          1.000000       2.990000   \n",
      "25%      3894.000000  185831.250000          1.000000      11.950000   \n",
      "50%      7786.000000  230367.500000          1.000000      14.950000   \n",
      "75%     11872.000000  275035.750000          1.000000     150.000000   \n",
      "max     25116.000000  319670.000000          9.000000    1700.000000   \n",
      "\n",
      "               Month          Sales           Hour  \n",
      "count  185950.000000  185950.000000  185950.000000  \n",
      "mean        7.059140     185.490917      14.413305  \n",
      "std         3.502996     332.919771       5.423416  \n",
      "min         1.000000       2.990000       0.000000  \n",
      "25%         4.000000      11.950000      11.000000  \n",
      "50%         7.000000      14.950000      15.000000  \n",
      "75%        10.000000     150.000000      19.000000  \n",
      "max        12.000000    3400.000000      23.000000  \n"
     ]
    }
   ],
   "source": [
    "#\n",
    "if \"intermediate_steps\" in response:\n",
    "    for step in response[\"intermediate_steps\"]:\n",
    "        if step[0].tool == \"python_repl_ast\":  # Chỉ lấy code từ tool Python\n",
    "            code = step[0].tool_input.strip(\"```python\").strip(\"```\")  # Lấy nội dung action_input và loại bỏ các ký tự không hợp lệ\n",
    "            print(\"Extracted Python Code:\\n\", code)  # In ra để kiểm tra\n",
    "\n",
    "            # Thực thi mã Python\n",
    "            exec(code)"
   ]
  },
  {
   "cell_type": "code",
   "execution_count": 42,
   "metadata": {},
   "outputs": [
    {
     "name": "stdout",
     "output_type": "stream",
     "text": [
      "Extracted Python Code:\n",
      " \n",
      "print(df.describe())\n",
      "\n",
      "          Unnamed: 0       Order ID  Quantity Ordered     Price Each  \\\n",
      "count  185950.000000  185950.000000     185950.000000  185950.000000   \n",
      "mean     8340.388475  230417.569379          1.124383     184.399735   \n",
      "std      5450.554093   51512.737110          0.442793     332.731330   \n",
      "min         0.000000  141234.000000          1.000000       2.990000   \n",
      "25%      3894.000000  185831.250000          1.000000      11.950000   \n",
      "50%      7786.000000  230367.500000          1.000000      14.950000   \n",
      "75%     11872.000000  275035.750000          1.000000     150.000000   \n",
      "max     25116.000000  319670.000000          9.000000    1700.000000   \n",
      "\n",
      "               Month          Sales           Hour  \n",
      "count  185950.000000  185950.000000  185950.000000  \n",
      "mean        7.059140     185.490917      14.413305  \n",
      "std         3.502996     332.919771       5.423416  \n",
      "min         1.000000       2.990000       0.000000  \n",
      "25%         4.000000      11.950000      11.000000  \n",
      "50%         7.000000      14.950000      15.000000  \n",
      "75%        10.000000     150.000000      19.000000  \n",
      "max        12.000000    3400.000000      23.000000  \n"
     ]
    }
   ],
   "source": [
    "#\n",
    "if \"intermediate_steps\" in response:\n",
    "    for step in response[\"intermediate_steps\"]:\n",
    "        if step[0].tool == \"python_repl_ast\":  # Chỉ lấy code từ tool Python\n",
    "            code = step[0].tool_input.strip(\"```python\").strip(\"```\")  # Lấy nội dung action_input và loại bỏ các ký tự không hợp lệ\n",
    "            print(\"Extracted Python Code:\\n\", code)  # In ra để kiểm tra\n",
    "\n",
    "            # Thực thi mã Python\n",
    "            exec(code)"
   ]
  }
 ],
 "metadata": {
  "kernelspec": {
   "display_name": "data_science_pj",
   "language": "python",
   "name": "python3"
  },
  "language_info": {
   "codemirror_mode": {
    "name": "ipython",
    "version": 3
   },
   "file_extension": ".py",
   "mimetype": "text/x-python",
   "name": "python",
   "nbconvert_exporter": "python",
   "pygments_lexer": "ipython3",
   "version": "3.10.0"
  }
 },
 "nbformat": 4,
 "nbformat_minor": 2
}
